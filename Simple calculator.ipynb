{
 "cells": [
  {
   "cell_type": "markdown",
   "id": "b7c28a34",
   "metadata": {},
   "source": [
    "# A basic calculator using functions"
   ]
  },
  {
   "cell_type": "code",
   "execution_count": 16,
   "id": "b27663be",
   "metadata": {},
   "outputs": [
    {
     "name": "stdout",
     "output_type": "stream",
     "text": [
      "\n",
      "1. Addition\n",
      "2. Subtraction\n",
      "3. Multiplication\n",
      "4. Division\n",
      "\n",
      "Enter your choice to perform calculation: 1\n",
      "Enter the first number: 127\n",
      "Enter the second number: 56\n",
      "The Addition of two numbers 127 and 56 is 183\n",
      "\n",
      "\n",
      "Enter your choice to perform calculation: 2\n",
      "Enter the first number: 83\n",
      "Enter the second number: 56\n",
      "The Subtraction of two numbers 83 and 56 is 27\n",
      "\n",
      "\n",
      "Enter your choice to perform calculation: 3\n",
      "Enter the first number: 17\n",
      "Enter the second number: 15\n",
      "The Multiplication of two numbers 17 and 15 is 255\n",
      "\n",
      "\n",
      "Enter your choice to perform calculation: 4\n",
      "Enter the first number: 230\n",
      "Enter the second number: 0\n",
      "The denominator does not be 0\n",
      "The Division of two numbers 230 and 0 is None\n",
      "\n",
      "\n",
      "Enter your choice to perform calculation: 4\n",
      "Enter the first number: 30\n",
      "Enter the second number: 8\n",
      "The Division of two numbers 30 and 8 is 3.75\n",
      "\n",
      "\n",
      "Enter your choice to perform calculation: 5\n",
      "Exiting the program\n"
     ]
    }
   ],
   "source": [
    "# Task 1 : Calculator\n",
    "\n",
    "# Create a basic calculator that can perform basic arithmetic operations such as addition, subtraction, multiplication, \n",
    "# and division.using functions\n",
    "\n",
    "def add(x,y):\n",
    "    return x+y\n",
    "def sub(x,y):\n",
    "    return x-y\n",
    "def mul(x,y):\n",
    "    return x*y\n",
    "def div(x,y):\n",
    "    if y!=0:\n",
    "        return x/y\n",
    "    else:\n",
    "        print(\"The denominator does not be 0\")\n",
    "\n",
    "print('''\n",
    "1. Addition\n",
    "2. Subtraction\n",
    "3. Multiplication\n",
    "4. Division\n",
    "''')\n",
    "\n",
    "while True:\n",
    "    choice=int(input(\"Enter your choice to perform calculation: \"))\n",
    "    \n",
    "    if choice in [1,2,3,4]:\n",
    "        num1=int(input(\"Enter the first number: \"))\n",
    "        num2=int(input(\"Enter the second number: \"))\n",
    "        if choice==1:\n",
    "            result=add(num1,num2)\n",
    "            operation=\"Addition\"\n",
    "            \n",
    "        elif choice==2:\n",
    "            result=sub(num1,num2)\n",
    "            operation=\"Subtraction\"\n",
    "            \n",
    "        elif choice==3:\n",
    "            result=mul(num1,num2)\n",
    "            operation=\"Multiplication\"\n",
    "            \n",
    "        elif choice==4:\n",
    "            result=div(num1,num2)\n",
    "            operation=\"Division\"\n",
    "        print(f\"The {operation} of two numbers {num1} and {num2} is {result}\\n\\n\")    \n",
    "    else:\n",
    "        print(\"Exiting the program\")\n",
    "        break\n",
    "            \n",
    "        \n",
    "        \n",
    "        "
   ]
  },
  {
   "cell_type": "code",
   "execution_count": null,
   "id": "c9e652e5",
   "metadata": {},
   "outputs": [],
   "source": []
  },
  {
   "cell_type": "code",
   "execution_count": null,
   "id": "69b592e0",
   "metadata": {},
   "outputs": [],
   "source": []
  }
 ],
 "metadata": {
  "kernelspec": {
   "display_name": "Python 3 (ipykernel)",
   "language": "python",
   "name": "python3"
  },
  "language_info": {
   "codemirror_mode": {
    "name": "ipython",
    "version": 3
   },
   "file_extension": ".py",
   "mimetype": "text/x-python",
   "name": "python",
   "nbconvert_exporter": "python",
   "pygments_lexer": "ipython3",
   "version": "3.11.5"
  }
 },
 "nbformat": 4,
 "nbformat_minor": 5
}

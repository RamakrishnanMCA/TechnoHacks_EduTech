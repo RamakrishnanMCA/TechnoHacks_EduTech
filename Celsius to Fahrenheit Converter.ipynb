{
 "cells": [
  {
   "cell_type": "markdown",
   "id": "043bde3a",
   "metadata": {},
   "source": [
    "# Celsius(°C) ⇔ Fahrenheit(°F)"
   ]
  },
  {
   "cell_type": "code",
   "execution_count": 18,
   "id": "39c26678",
   "metadata": {},
   "outputs": [
    {
     "name": "stdout",
     "output_type": "stream",
     "text": [
      "Program to Convert temperature from celsius to fahrenheit and vice versa\n",
      "\n",
      " Enter the unit of temperature \n",
      " Enter c for celsius\n",
      " Enter f for fahrenheit\n",
      " \n",
      "Enter the unit in lower case: c\n",
      "Change Celsius to Fahrenheit\n",
      "Enter the degree: 38\n",
      "The 38.0 °C is equal to 100.4°F \n",
      "\n",
      " Enter the unit of temperature \n",
      " Enter c for celsius\n",
      " Enter f for fahrenheit\n",
      " \n",
      "Enter the unit in lower case: f\n",
      "Change Fahrenheit to Celsius\n",
      "Enter the degree: 100.4\n",
      "The 100.4 °F is equal to 38.00000000000001°C \n",
      "\n",
      " Enter the unit of temperature \n",
      " Enter c for celsius\n",
      " Enter f for fahrenheit\n",
      " \n",
      "Enter the unit in lower case: bye!!\n",
      "Exiting the program\n"
     ]
    }
   ],
   "source": [
    "# Temperature converter\n",
    "# Create a program that allows the user to convert temperatures between Fahrenheit and Celsius.\n",
    "\n",
    "print(\"Program to Convert temperature from celsius to fahrenheit and vice versa\")\n",
    "\n",
    "while True:\n",
    "    \n",
    "    print(\"\\n Enter the unit of temperature \\n Enter c for celsius\\n Enter f for fahrenheit\\n \")\n",
    "    unit=input(\"Enter the unit in lower case: \")\n",
    "    \n",
    "    if unit==\"c\":\n",
    "        print(\"Change Celsius to Fahrenheit\")\n",
    "        celsius=float(input(\"Enter the degree: \"))\n",
    "        fahren=(celsius * (9/5) + 32 )\n",
    "        print(f\"The {celsius} °C is equal to {fahren}°F \" )\n",
    "\n",
    "    elif unit==\"f\":\n",
    "        print(\"Change Fahrenheit to Celsius\")\n",
    "        fahren=float(input(\"Enter the degree: \"))\n",
    "        celsius=((fahren-32)*(5/9))\n",
    "        print(f\"The {fahren} °F is equal to {celsius}°C \" )\n",
    "    \n",
    "    else:\n",
    "        print(\"Exiting the program\")\n",
    "        break\n",
    "        "
   ]
  },
  {
   "cell_type": "code",
   "execution_count": null,
   "id": "d152a2e1",
   "metadata": {},
   "outputs": [],
   "source": []
  }
 ],
 "metadata": {
  "kernelspec": {
   "display_name": "Python 3 (ipykernel)",
   "language": "python",
   "name": "python3"
  },
  "language_info": {
   "codemirror_mode": {
    "name": "ipython",
    "version": 3
   },
   "file_extension": ".py",
   "mimetype": "text/x-python",
   "name": "python",
   "nbconvert_exporter": "python",
   "pygments_lexer": "ipython3",
   "version": "3.11.5"
  }
 },
 "nbformat": 4,
 "nbformat_minor": 5
}

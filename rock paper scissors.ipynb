{
 "cells": [
  {
   "cell_type": "markdown",
   "id": "67ad960b",
   "metadata": {},
   "source": [
    "# ROCK , PAPER , SCISSORS"
   ]
  },
  {
   "cell_type": "code",
   "execution_count": 28,
   "id": "78af0577",
   "metadata": {},
   "outputs": [
    {
     "name": "stdout",
     "output_type": "stream",
     "text": [
      "\t\t\tROCK, PAPER, SCISSORS GAME\n",
      "\n",
      "Rules:\n",
      "\n",
      "Rock wins Scissors\n",
      "Paper wins Rock\n",
      "Scissor wins Paper\n",
      " \n",
      "['rock', 'paper', 'scissors']\n",
      "\t\t ***Want to end the game (type: end)***\n",
      "\n",
      "Enter your choice(in lower case): rock\n",
      "\n",
      "It's a tie AI has ROCK\n",
      "\n",
      "Enter your choice(in lower case): paper\n",
      "\n",
      "you wins AI has ROCK\n",
      "\n",
      "Enter your choice(in lower case): end\n",
      "\n",
      "Game ended\n"
     ]
    }
   ],
   "source": [
    "import random\n",
    "\n",
    "print(\"\\t\\t\\tROCK, PAPER, SCISSORS GAME\\n\")\n",
    "\n",
    "print('''Rules:\\n\\nRock wins Scissors\\nPaper wins Rock\\nScissor wins Paper\\n ''')\n",
    "\n",
    "options=[\"rock\",\"paper\",\"scissors\"]\n",
    "print(options)\n",
    "\n",
    "print(\"\\t\\t ***Want to end the game (type: end)***\\n\")\n",
    "\n",
    "while True:\n",
    "    \n",
    "    yours=input(\"Enter your choice(in lower case): \")\n",
    "    comp=random.choice(options)\n",
    "    \n",
    "    if yours in ['rock','paper','scissors']:\n",
    "        \n",
    "        if yours=='rock' and comp =='scissors':\n",
    "            print(f\"\\nYou wins AI has {comp.upper()}\\n\")\n",
    "\n",
    "        elif yours=='paper' and comp=='rock':\n",
    "            print(f\"\\nyou wins AI has {comp.upper()}\\n\")\n",
    "\n",
    "        elif yours=='scissors' and comp =='paper':\n",
    "            print(f\"\\nyou wins AI has {comp.upper()}\\n\")\n",
    "\n",
    "        elif yours==comp:\n",
    "            print(f\"\\nIt's a tie AI has {comp.upper()}\\n\")\n",
    "\n",
    "        else:\n",
    "            print(f\"\\nAI wons because it has {comp.upper()}\\n\")\n",
    "            \n",
    "    elif yours==\"end\":\n",
    "        print(\"\\nGame ended\")\n",
    "        break\n",
    "        \n",
    "    else:\n",
    "        print(\"Please write the valid word\\n\")\n",
    "        \n",
    "    "
   ]
  },
  {
   "cell_type": "code",
   "execution_count": null,
   "id": "6c829a22",
   "metadata": {},
   "outputs": [],
   "source": []
  },
  {
   "cell_type": "code",
   "execution_count": null,
   "id": "91a04145",
   "metadata": {},
   "outputs": [],
   "source": []
  }
 ],
 "metadata": {
  "kernelspec": {
   "display_name": "Python 3 (ipykernel)",
   "language": "python",
   "name": "python3"
  },
  "language_info": {
   "codemirror_mode": {
    "name": "ipython",
    "version": 3
   },
   "file_extension": ".py",
   "mimetype": "text/x-python",
   "name": "python",
   "nbconvert_exporter": "python",
   "pygments_lexer": "ipython3",
   "version": "3.11.5"
  }
 },
 "nbformat": 4,
 "nbformat_minor": 5
}
